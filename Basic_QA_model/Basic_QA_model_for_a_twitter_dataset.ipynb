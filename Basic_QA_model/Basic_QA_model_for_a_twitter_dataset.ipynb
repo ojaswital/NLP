{
  "nbformat": 4,
  "nbformat_minor": 0,
  "metadata": {
    "colab": {
      "name": "Basic QA model for a twitter dataset.ipynb",
      "provenance": [],
      "collapsed_sections": [],
      "toc_visible": true
    },
    "kernelspec": {
      "name": "python3",
      "display_name": "Python 3"
    }
  },
  "cells": [
    {
      "cell_type": "markdown",
      "metadata": {
        "id": "jGQFbWsnp1YM"
      },
      "source": [
        "##Basic Question Answer based model based on the Uttarakhand twitter dataset.\n",
        "\n",
        "Sample Questions : \n",
        "\n",
        "What is the helpline number?\n",
        "\n",
        "What happened in Uttarakhand?\n",
        "\n",
        "How many people are affected?"
      ]
    },
    {
      "cell_type": "code",
      "metadata": {
        "id": "ljL2NYQ5FZKC",
        "colab": {
          "base_uri": "https://localhost:8080/",
          "height": 669
        },
        "outputId": "81c169a8-8c57-4277-ea46-430d74ead0bb"
      },
      "source": [
        "import pandas as pd\n",
        "import string\n",
        "import re\n",
        "import nltk\n",
        "from nltk.tokenize import RegexpTokenizer\n",
        "from nltk.corpus import stopwords\n",
        "\n",
        "\n",
        "\n",
        "\n",
        "## CLEANING THE DATA\n",
        "\n",
        "# Function to remove punctuation\n",
        "def remove_punctuation(data):\n",
        "  res = \"\".join([c for c in data if c not in string.punctuation])\n",
        "  return res\n",
        "\n",
        "tokenizer = RegexpTokenizer(r\"\\w+\")\n",
        "\n",
        "corpus = ['What is the helpline/emergency number?',\n",
        "'What happened in Uttarakhand?',\n",
        "'How many people are affected?']\n",
        "df_corpus = pd.DataFrame(corpus,columns=['Q'])\n",
        "df_corpus['Q'] = df_corpus['Q'].apply(lambda x: remove_punctuation(x))\n",
        "df_corpus['Q'] = df_corpus['Q'].apply(lambda x: tokenizer.tokenize(x.lower()))\n",
        "\n",
        "df = pd.read_csv('Uttarakhand.csv')\n",
        "df1 = pd.read_csv('Uttarakhand.csv')\n",
        "df['tweet'] = df['tweet'].str.replace('[^\\w\\s#@/:%.,_-]', '', flags=re.UNICODE) # removes emoticons\n",
        "df['tweet'] = df['tweet'].apply(lambda x: remove_punctuation(x))\n",
        "df['tweet'] = df['tweet'].apply(lambda x: tokenizer.tokenize(x.lower()))\n",
        "df1.head(20)\n",
        "\n"
      ],
      "execution_count": 1,
      "outputs": [
        {
          "output_type": "execute_result",
          "data": {
            "text/html": [
              "<div>\n",
              "<style scoped>\n",
              "    .dataframe tbody tr th:only-of-type {\n",
              "        vertical-align: middle;\n",
              "    }\n",
              "\n",
              "    .dataframe tbody tr th {\n",
              "        vertical-align: top;\n",
              "    }\n",
              "\n",
              "    .dataframe thead th {\n",
              "        text-align: right;\n",
              "    }\n",
              "</style>\n",
              "<table border=\"1\" class=\"dataframe\">\n",
              "  <thead>\n",
              "    <tr style=\"text-align: right;\">\n",
              "      <th></th>\n",
              "      <th>tweet</th>\n",
              "    </tr>\n",
              "  </thead>\n",
              "  <tbody>\n",
              "    <tr>\n",
              "      <th>0</th>\n",
              "      <td>Horrible news out of #Uttarakhand</td>\n",
              "    </tr>\n",
              "    <tr>\n",
              "      <th>1</th>\n",
              "      <td>Prayer for #Uttarakhand 🙏🙏</td>\n",
              "    </tr>\n",
              "    <tr>\n",
              "      <th>2</th>\n",
              "      <td>Ohhh God Please Save #Uttarakhand</td>\n",
              "    </tr>\n",
              "    <tr>\n",
              "      <th>3</th>\n",
              "      <td>Extremely Sad To Hear About The #Uttarakhand G...</td>\n",
              "    </tr>\n",
              "    <tr>\n",
              "      <th>4</th>\n",
              "      <td>Prayers for #Uttarakhand 🙏🙏</td>\n",
              "    </tr>\n",
              "    <tr>\n",
              "      <th>5</th>\n",
              "      <td>Prayer for #Uttarakhand.\\n🙏🙏</td>\n",
              "    </tr>\n",
              "    <tr>\n",
              "      <th>6</th>\n",
              "      <td>ALERT 🚨 #Uttarakhand \\n\\nEmergency 🆘 numbers 1...</td>\n",
              "    </tr>\n",
              "    <tr>\n",
              "      <th>7</th>\n",
              "      <td>Heavy Devastation Due To Glacier breakage in C...</td>\n",
              "    </tr>\n",
              "    <tr>\n",
              "      <th>8</th>\n",
              "      <td>I wish everyone stay safe in  Uttarakhand duri...</td>\n",
              "    </tr>\n",
              "    <tr>\n",
              "      <th>9</th>\n",
              "      <td>O Lord Shiva please save #Uttarakhand !</td>\n",
              "    </tr>\n",
              "    <tr>\n",
              "      <th>10</th>\n",
              "      <td>Distressing to hear about the glacier breaking...</td>\n",
              "    </tr>\n",
              "    <tr>\n",
              "      <th>11</th>\n",
              "      <td>#Uttarakhand tragic events unfolding .. https:...</td>\n",
              "    </tr>\n",
              "    <tr>\n",
              "      <th>12</th>\n",
              "      <td>Praying for safety of all #Uttarakhand 🙏</td>\n",
              "    </tr>\n",
              "    <tr>\n",
              "      <th>13</th>\n",
              "      <td>What's happening ? This is so scary.. My praye...</td>\n",
              "    </tr>\n",
              "    <tr>\n",
              "      <th>14</th>\n",
              "      <td>Pray for #Uttarakhand 🙏</td>\n",
              "    </tr>\n",
              "    <tr>\n",
              "      <th>15</th>\n",
              "      <td>Pray for the Uttarakhand \\n#Uttarakhand</td>\n",
              "    </tr>\n",
              "    <tr>\n",
              "      <th>16</th>\n",
              "      <td>This is so sad news pray for labors\\n\\n#Uttara...</td>\n",
              "    </tr>\n",
              "    <tr>\n",
              "      <th>17</th>\n",
              "      <td>@kktotlani Prayers for #Uttarakhand 🙏🏻</td>\n",
              "    </tr>\n",
              "    <tr>\n",
              "      <th>18</th>\n",
              "      <td>Pray for #Uttarakhand people that have mahadev</td>\n",
              "    </tr>\n",
              "    <tr>\n",
              "      <th>19</th>\n",
              "      <td>Prayering for lives there at devbhumi #Uttarak...</td>\n",
              "    </tr>\n",
              "  </tbody>\n",
              "</table>\n",
              "</div>"
            ],
            "text/plain": [
              "                                                tweet\n",
              "0                   Horrible news out of #Uttarakhand\n",
              "1                          Prayer for #Uttarakhand 🙏🙏\n",
              "2                   Ohhh God Please Save #Uttarakhand\n",
              "3   Extremely Sad To Hear About The #Uttarakhand G...\n",
              "4                         Prayers for #Uttarakhand 🙏🙏\n",
              "5                        Prayer for #Uttarakhand.\\n🙏🙏\n",
              "6   ALERT 🚨 #Uttarakhand \\n\\nEmergency 🆘 numbers 1...\n",
              "7   Heavy Devastation Due To Glacier breakage in C...\n",
              "8   I wish everyone stay safe in  Uttarakhand duri...\n",
              "9             O Lord Shiva please save #Uttarakhand !\n",
              "10  Distressing to hear about the glacier breaking...\n",
              "11  #Uttarakhand tragic events unfolding .. https:...\n",
              "12           Praying for safety of all #Uttarakhand 🙏\n",
              "13  What's happening ? This is so scary.. My praye...\n",
              "14                            Pray for #Uttarakhand 🙏\n",
              "15            Pray for the Uttarakhand \\n#Uttarakhand\n",
              "16  This is so sad news pray for labors\\n\\n#Uttara...\n",
              "17             @kktotlani Prayers for #Uttarakhand 🙏🏻\n",
              "18     Pray for #Uttarakhand people that have mahadev\n",
              "19  Prayering for lives there at devbhumi #Uttarak..."
            ]
          },
          "metadata": {
            "tags": []
          },
          "execution_count": 1
        }
      ]
    },
    {
      "cell_type": "code",
      "metadata": {
        "id": "l2U3pqETEDOv"
      },
      "source": [
        "from collections import Counter\n",
        "def get_cosine(vec1, vec2):\n",
        "  a_vals = Counter(vec1)\n",
        "  b_vals = Counter(vec2)\n",
        "\n",
        "  # convert to word-vectors\n",
        "  words  = list(a_vals.keys() | b_vals.keys())\n",
        "  a_vect = [a_vals.get(word, 0) for word in words]     \n",
        "  b_vect = [b_vals.get(word, 0) for word in words]        \n",
        "\n",
        "  # find cosine\n",
        "  len_a  = sum(av*av for av in a_vect) ** 0.5             \n",
        "  len_b  = sum(bv*bv for bv in b_vect) ** 0.5             \n",
        "  dot    = sum(av*bv for av,bv in zip(a_vect, b_vect))    \n",
        "  cosine = dot / (len_a * len_b)\n",
        "  return cosine                          "
      ],
      "execution_count": 4,
      "outputs": []
    },
    {
      "cell_type": "code",
      "metadata": {
        "colab": {
          "base_uri": "https://localhost:8080/"
        },
        "id": "CwyIoMK6FbyZ",
        "outputId": "bf1371d8-053b-41c1-d568-3995577d8ebb"
      },
      "source": [
        "cos = []\n",
        "for i in range(len(df_corpus)):\n",
        "  for j in range(len(df)):\n",
        "    l = get_cosine(df_corpus['Q'][i],df['tweet'][j])\n",
        "    cos.append(l)\n",
        "    index = cos.index(max(cos))\n",
        "  print('Question:', corpus[i])\n",
        "  print('Answer:', df1['tweet'][index])\n",
        "  cos.clear()\n",
        "\n"
      ],
      "execution_count": 5,
      "outputs": [
        {
          "output_type": "stream",
          "text": [
            "Question: What is the helpline/emergency number?\n",
            "Answer: @anjileeistwal That's what the core reason of such disasters is. The #Uttarakhand region is highly ecological sensi… https://t.co/pjLWFbtAsd\n",
            "Question: What happened in Uttarakhand?\n",
            "Answer: @ShivAroor @IndiaToday 😳, similar to what happened in Kedarnath #FlashFlood #Uttarakhand\n",
            "Question: How many people are affected?\n",
            "Answer: Now, the water level is normal, but many people are missing. Rishi Ganga and NTPC projects have been affected: Rame… https://t.co/I2MuoNPUuO\n"
          ],
          "name": "stdout"
        }
      ]
    }
  ]
}